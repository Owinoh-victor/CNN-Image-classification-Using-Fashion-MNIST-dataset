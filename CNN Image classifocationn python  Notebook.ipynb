{
 "cells": [
  {
   "cell_type": "markdown",
   "metadata": {},
   "source": [
    "# Importing libraries"
   ]
  },
  {
   "cell_type": "code",
   "execution_count": 1,
   "metadata": {},
   "outputs": [
    {
     "name": "stderr",
     "output_type": "stream",
     "text": [
      "Using TensorFlow backend.\n"
     ]
    }
   ],
   "source": [
    "import numpy as np\n",
    "import matplotlib.pyplot as plt\n",
    "import pandas as pd\n",
    "import seaborn as sns\n",
    "import keras\n",
    "import tensorflow as tf"
   ]
  },
  {
   "cell_type": "code",
   "execution_count": 2,
   "metadata": {},
   "outputs": [
    {
     "name": "stdout",
     "output_type": "stream",
     "text": [
      "Dataset imported succesfully\n"
     ]
    }
   ],
   "source": [
    "train = pd.read_csv('C:/Users/pc/Desktop/Fashion MNIST/fashion-mnist_train.csv')\n",
    "test = pd.read_csv('C:/Users/pc/Desktop/Fashion MNIST/fashion-mnist_test.csv')\n",
    "df = train.copy()\n",
    "test_df = test.copy()\n",
    "print(\"Dataset imported succesfully\")"
   ]
  },
  {
   "cell_type": "code",
   "execution_count": 3,
   "metadata": {},
   "outputs": [
    {
     "name": "stdout",
     "output_type": "stream",
     "text": [
      "Dataset Head\n",
      "   label  pixel1  pixel2  pixel3  pixel4  pixel5  pixel6  pixel7  pixel8  \\\n",
      "0      2       0       0       0       0       0       0       0       0   \n",
      "1      9       0       0       0       0       0       0       0       0   \n",
      "2      6       0       0       0       0       0       0       0       5   \n",
      "3      0       0       0       0       1       2       0       0       0   \n",
      "4      3       0       0       0       0       0       0       0       0   \n",
      "\n",
      "   pixel9  ...  pixel775  pixel776  pixel777  pixel778  pixel779  pixel780  \\\n",
      "0       0  ...         0         0         0         0         0         0   \n",
      "1       0  ...         0         0         0         0         0         0   \n",
      "2       0  ...         0         0         0        30        43         0   \n",
      "3       0  ...         3         0         0         0         0         1   \n",
      "4       0  ...         0         0         0         0         0         0   \n",
      "\n",
      "   pixel781  pixel782  pixel783  pixel784  \n",
      "0         0         0         0         0  \n",
      "1         0         0         0         0  \n",
      "2         0         0         0         0  \n",
      "3         0         0         0         0  \n",
      "4         0         0         0         0  \n",
      "\n",
      "[5 rows x 785 columns]\n",
      "==============================\n"
     ]
    }
   ],
   "source": [
    "#view starting values of data set\n",
    "print(\"Dataset Head\")\n",
    "print(train.head())\n",
    "print(\"=\" * 30)"
   ]
  },
  {
   "cell_type": "code",
   "execution_count": 4,
   "metadata": {},
   "outputs": [
    {
     "name": "stdout",
     "output_type": "stream",
     "text": [
      "Dataset Features Details\n",
      "<class 'pandas.core.frame.DataFrame'>\n",
      "RangeIndex: 60000 entries, 0 to 59999\n",
      "Columns: 785 entries, label to pixel784\n",
      "dtypes: int64(785)\n",
      "memory usage: 359.3 MB\n",
      "None\n",
      "==============================\n"
     ]
    }
   ],
   "source": [
    "# View How many samples and how many missing values for each feature\n",
    "print(\"Dataset Features Details\")\n",
    "print(train.info())\n",
    "print(\"=\" * 30)"
   ]
  },
  {
   "cell_type": "markdown",
   "metadata": {},
   "source": [
    "# Exploring the dataset\n",
    "it is iportant to note that Label is the Target variable."
   ]
  },
  {
   "cell_type": "markdown",
   "metadata": {},
   "source": [
    "# Dataset Label Description\n",
    "0 T-shirt/top\n",
    "\n",
    "1 Trouser\n",
    "\n",
    "2 Pullover\n",
    "\n",
    "3 Dress\n",
    "\n",
    "4 Coat\n",
    "\n",
    "5 Sandal\n",
    "\n",
    "6 Shirt\n",
    "\n",
    "7 Sneaker\n",
    "\n",
    "8 Bag\n",
    "\n",
    "9 Ankle boot"
   ]
  },
  {
   "cell_type": "markdown",
   "metadata": {},
   "source": [
    "# Examine Dimensions"
   ]
  },
  {
   "cell_type": "code",
   "execution_count": 5,
   "metadata": {},
   "outputs": [
    {
     "name": "stdout",
     "output_type": "stream",
     "text": [
      "Train:  (60000, 785)\n",
      "Test:  (10000, 785)\n"
     ]
    }
   ],
   "source": [
    "print('Train: ', df.shape)\n",
    "print('Test: ', test_df.shape)"
   ]
  },
  {
   "cell_type": "markdown",
   "metadata": {},
   "source": [
    "So, there are 60,000 Training Samples and 10,000 Test Samples.\n",
    "Each example is a 28x28 grayscale image, associated with a label from 10 classes."
   ]
  },
  {
   "cell_type": "code",
   "execution_count": 6,
   "metadata": {},
   "outputs": [
    {
     "data": {
      "text/plain": [
       "array([2, 9, 6, 0, 3, 4, 5, 8, 7, 1], dtype=int64)"
      ]
     },
     "execution_count": 6,
     "metadata": {},
     "output_type": "execute_result"
    }
   ],
   "source": [
    "df.label.unique()"
   ]
  },
  {
   "cell_type": "markdown",
   "metadata": {},
   "source": [
    "# Checking for Null Values"
   ]
  },
  {
   "cell_type": "code",
   "execution_count": 7,
   "metadata": {},
   "outputs": [
    {
     "data": {
      "text/plain": [
       "0"
      ]
     },
     "execution_count": 7,
     "metadata": {},
     "output_type": "execute_result"
    }
   ],
   "source": [
    " #Train DATASET\n",
    "df.isnull().any().sum()"
   ]
  },
  {
   "cell_type": "code",
   "execution_count": 8,
   "metadata": {},
   "outputs": [
    {
     "data": {
      "text/plain": [
       "0"
      ]
     },
     "execution_count": 8,
     "metadata": {},
     "output_type": "execute_result"
    }
   ],
   "source": [
    "# Test DATASET\n",
    "test_df.isnull().any().sum()"
   ]
  },
  {
   "cell_type": "markdown",
   "metadata": {},
   "source": [
    "Wonderful, So there are no Null Values in both Train and Test Set."
   ]
  },
  {
   "cell_type": "markdown",
   "metadata": {},
   "source": [
    "# Visualizing the Dataset"
   ]
  },
  {
   "cell_type": "code",
   "execution_count": 9,
   "metadata": {},
   "outputs": [],
   "source": [
    "# Mapping Classes lebels\n",
    "clothes = {0 : 'T-shirt/top',\n",
    "            1 : 'Trouser',\n",
    "            2 : 'Pullover',\n",
    "            3 : 'Dress',\n",
    "            4 : 'Coat',\n",
    "            5 : 'Sandal',\n",
    "            6 : 'Shirt',\n",
    "            7 : 'Sneaker',\n",
    "            8 : 'Bag',\n",
    "            9 : 'Ankle boot'}"
   ]
  },
  {
   "cell_type": "markdown",
   "metadata": {},
   "source": [
    "Plotting Random Images"
   ]
  },
  {
   "cell_type": "code",
   "execution_count": 10,
   "metadata": {},
   "outputs": [
    {
     "data": {
      "image/png": "[encoded data removed]",
      "text/plain": [
       "<Figure size 1080x1080 with 16 Axes>"
      ]
     },
     "metadata": {
      "needs_background": "light"
     },
     "output_type": "display_data"
    }
   ],
   "source": [
    "fig, axes = plt.subplots(4, 4, figsize = (15,15))\n",
    "for row in axes:\n",
    "    for axe in row:\n",
    "        index = np.random.randint(60000)\n",
    "        img = df.drop('label', axis=1).values[index].reshape(28,28)\n",
    "        cloths = df['label'][index]\n",
    "        axe.imshow(img, cmap='gray')\n",
    "        axe.set_title(clothes[cloths])\n",
    "        axe.set_axis_off()"
   ]
  },
  {
   "cell_type": "markdown",
   "metadata": {},
   "source": [
    "Let's look at the Distribution of labels to anaylze if there are any skewed classes"
   ]
  },
  {
   "cell_type": "code",
   "execution_count": 11,
   "metadata": {},
   "outputs": [
    {
     "data": {
      "text/plain": [
       "9    6000\n",
       "8    6000\n",
       "7    6000\n",
       "6    6000\n",
       "5    6000\n",
       "4    6000\n",
       "3    6000\n",
       "2    6000\n",
       "1    6000\n",
       "0    6000\n",
       "Name: label, dtype: int64"
      ]
     },
     "execution_count": 11,
     "metadata": {},
     "output_type": "execute_result"
    }
   ],
   "source": [
    "df['label'].value_counts()"
   ]
  },
  {
   "cell_type": "code",
   "execution_count": 12,
   "metadata": {},
   "outputs": [
    {
     "name": "stderr",
     "output_type": "stream",
     "text": [
      "C:\\Users\\pc\\Anaconda3\\lib\\site-packages\\seaborn\\categorical.py:3666: UserWarning: The `factorplot` function has been renamed to `catplot`. The original name will be removed in a future release. Please update your code. Note that the default `kind` in `factorplot` (`'point'`) has changed `'strip'` in `catplot`.\n",
      "  warnings.warn(msg)\n",
      "C:\\Users\\pc\\Anaconda3\\lib\\site-packages\\seaborn\\categorical.py:3672: UserWarning: The `size` paramter has been renamed to `height`; please update your code.\n",
      "  warnings.warn(msg, UserWarning)\n"
     ]
    },
    {
     "data": {
      "text/plain": [
       "<seaborn.axisgrid.FacetGrid at 0x1dd85682d68>"
      ]
     },
     "execution_count": 12,
     "metadata": {},
     "output_type": "execute_result"
    },
    {
     "data": {
      "image/png": "[encoded data removed]",
      "text/plain": [
       "<Figure size 324x216 with 1 Axes>"
      ]
     },
     "metadata": {
      "needs_background": "light"
     },
     "output_type": "display_data"
    }
   ],
   "source": [
    "sns.factorplot(x='label', data=df, kind='count', size=3, aspect= 1.5)"
   ]
  },
  {
   "cell_type": "markdown",
   "metadata": {},
   "source": [
    "It beautiful that all classes are equally Distributed.There is no anomalies in the dataset"
   ]
  },
  {
   "cell_type": "code",
   "execution_count": 20,
   "metadata": {},
   "outputs": [],
   "source": [
    "# Setting Random Seeds for Reproducibilty.\n",
    "seed = 66\n",
    "np.random.seed(seed)"
   ]
  },
  {
   "cell_type": "markdown",
   "metadata": {},
   "source": [
    "# Split the data into train/validation/test datasets\n",
    "Now we are gonna split the training data into Train and Validation Set. \n",
    "\n",
    "Train set is used for Training the model and Validation set is used for Evaluating our Model's Performance on the Dataset."
   ]
  },
  {
   "cell_type": "code",
   "execution_count": 23,
   "metadata": {},
   "outputs": [],
   "source": [
    "from sklearn.model_selection import train_test_split\n",
    "X = train.iloc[:,1:]\n",
    "Y = train.iloc[:,0]\n",
    "x_train, x_validate, y_train, y_validate = train_test_split(x_train, y_train, test_size = 0.2, random_state = 12345)"
   ]
  },
  {
   "cell_type": "code",
   "execution_count": 24,
   "metadata": {},
   "outputs": [
    {
     "data": {
      "text/plain": [
       "(43200, 28, 28, 1)"
      ]
     },
     "execution_count": 24,
     "metadata": {},
     "output_type": "execute_result"
    }
   ],
   "source": [
    "x_train.shape\n"
   ]
  },
  {
   "cell_type": "code",
   "execution_count": 25,
   "metadata": {},
   "outputs": [
    {
     "data": {
      "text/plain": [
       "(6000, 28, 28, 1)"
      ]
     },
     "execution_count": 25,
     "metadata": {},
     "output_type": "execute_result"
    }
   ],
   "source": [
    "x_test.shape"
   ]
  },
  {
   "cell_type": "code",
   "execution_count": 27,
   "metadata": {},
   "outputs": [],
   "source": [
    "# * unpack the tuple\n",
    "x_train = x_train.reshape(x_train.shape[0], *(28, 28, 1))\n",
    "x_test = x_test.reshape(x_test.shape[0], *(28, 28, 1))\n",
    "x_validate = x_validate.reshape(x_validate.shape[0], *(28, 28, 1))"
   ]
  },
  {
   "cell_type": "markdown",
   "metadata": {},
   "source": [
    "The first parameter in reshape indicates the number of examples.\n",
    " We pass it as -1, which means that it is an unknown dimension and we want numpy to figure it out."
   ]
  },
  {
   "cell_type": "code",
   "execution_count": 28,
   "metadata": {},
   "outputs": [
    {
     "name": "stdout",
     "output_type": "stream",
     "text": [
      "(43200, 28, 28, 1)\n",
      "(43200, 28, 28, 1)\n",
      "(10800, 28, 28, 1)\n"
     ]
    }
   ],
   "source": [
    "print(x_train.shape)\n",
    "print(x_train.shape)\n",
    "print(x_validate.shape)"
   ]
  },
  {
   "cell_type": "markdown",
   "metadata": {},
   "source": [
    "# Building the Model "
   ]
  },
  {
   "cell_type": "code",
   "execution_count": 29,
   "metadata": {},
   "outputs": [],
   "source": [
    "from keras.models import Sequential\n",
    "from keras.layers import Conv2D, MaxPooling2D, Dense, Flatten, Dropout\n",
    "from keras.optimizers import Adam\n",
    "from keras.callbacks import TensorBoard"
   ]
  },
  {
   "cell_type": "code",
   "execution_count": 31,
   "metadata": {},
   "outputs": [
    {
     "name": "stdout",
     "output_type": "stream",
     "text": [
      "WARNING:tensorflow:From C:\\Users\\pc\\Anaconda3\\lib\\site-packages\\tensorflow\\python\\ops\\init_ops.py:1251: calling VarianceScaling.__init__ (from tensorflow.python.ops.init_ops) with dtype is deprecated and will be removed in a future version.\n",
      "Instructions for updating:\n",
      "Call initializer instance with the dtype argument instead of passing it to the constructor\n",
      "Model: \"sequential\"\n",
      "_________________________________________________________________\n",
      "Layer (type)                 Output Shape              Param #   \n",
      "=================================================================\n",
      "conv2d (Conv2D)              (None, 28, 28, 64)        320       \n",
      "_________________________________________________________________\n",
      "max_pooling2d (MaxPooling2D) (None, 14, 14, 64)        0         \n",
      "_________________________________________________________________\n",
      "dropout (Dropout)            (None, 14, 14, 64)        0         \n",
      "_________________________________________________________________\n",
      "conv2d_1 (Conv2D)            (None, 14, 14, 32)        8224      \n",
      "_________________________________________________________________\n",
      "max_pooling2d_1 (MaxPooling2 (None, 7, 7, 32)          0         \n",
      "_________________________________________________________________\n",
      "dropout_1 (Dropout)          (None, 7, 7, 32)          0         \n",
      "_________________________________________________________________\n",
      "flatten (Flatten)            (None, 1568)              0         \n",
      "_________________________________________________________________\n",
      "dense (Dense)                (None, 256)               401664    \n",
      "_________________________________________________________________\n",
      "dropout_2 (Dropout)          (None, 256)               0         \n",
      "_________________________________________________________________\n",
      "dense_1 (Dense)              (None, 10)                2570      \n",
      "=================================================================\n",
      "Total params: 412,778\n",
      "Trainable params: 412,778\n",
      "Non-trainable params: 0\n",
      "_________________________________________________________________\n"
     ]
    }
   ],
   "source": [
    "model = tf.keras.Sequential()\n",
    "# Must define the input shape in the first layer of the neural network\n",
    "model.add(tf.keras.layers.Conv2D(filters=64, kernel_size=2, padding='same', activation='relu', input_shape=(28,28,1))) \n",
    "model.add(tf.keras.layers.MaxPooling2D(pool_size=2))\n",
    "model.add(tf.keras.layers.Dropout(0.3))\n",
    "model.add(tf.keras.layers.Conv2D(filters=32, kernel_size=2, padding='same', activation='relu'))\n",
    "model.add(tf.keras.layers.MaxPooling2D(pool_size=2))\n",
    "model.add(tf.keras.layers.Dropout(0.3))\n",
    "model.add(tf.keras.layers.Flatten())\n",
    "model.add(tf.keras.layers.Dense(256, activation='relu'))\n",
    "model.add(tf.keras.layers.Dropout(0.5))\n",
    "model.add(tf.keras.layers.Dense(10, activation='softmax'))\n",
    "# Take a look at the model summary\n",
    "model.summary()"
   ]
  },
  {
   "cell_type": "code",
   "execution_count": 32,
   "metadata": {},
   "outputs": [],
   "source": [
    "model.compile(loss ='sparse_categorical_crossentropy', optimizer='adam' ,metrics =['accuracy'])\n"
   ]
  },
  {
   "cell_type": "code",
   "execution_count": 35,
   "metadata": {},
   "outputs": [
    {
     "name": "stdout",
     "output_type": "stream",
     "text": [
      "Train on 43200 samples, validate on 10800 samples\n",
      "Epoch 1/150\n",
      "43200/43200 [==============================] - 76s 2ms/sample - loss: 4.3887 - acc: 0.4623 - val_loss: 0.8466 - val_acc: 0.6875\n",
      "Epoch 2/150\n",
      "43200/43200 [==============================] - 73s 2ms/sample - loss: 0.9502 - acc: 0.6544 - val_loss: 0.6472 - val_acc: 0.7543\n",
      "Epoch 3/150\n",
      "43200/43200 [==============================] - 73s 2ms/sample - loss: 0.7803 - acc: 0.7049 - val_loss: 0.5486 - val_acc: 0.7912\n",
      "Epoch 4/150\n",
      "43200/43200 [==============================] - 71s 2ms/sample - loss: 0.6893 - acc: 0.7388 - val_loss: 0.5318 - val_acc: 0.7856\n",
      "Epoch 5/150\n",
      "43200/43200 [==============================] - 71s 2ms/sample - loss: 0.6426 - acc: 0.7534 - val_loss: 0.4876 - val_acc: 0.8058\n",
      "Epoch 6/150\n",
      "43200/43200 [==============================] - 72s 2ms/sample - loss: 0.6032 - acc: 0.7686 - val_loss: 0.4773 - val_acc: 0.8037\n",
      "Epoch 7/150\n",
      "43200/43200 [==============================] - 72s 2ms/sample - loss: 0.5719 - acc: 0.7796 - val_loss: 0.4438 - val_acc: 0.8319\n",
      "Epoch 8/150\n",
      "43200/43200 [==============================] - 72s 2ms/sample - loss: 0.5530 - acc: 0.7882 - val_loss: 0.4262 - val_acc: 0.8419\n",
      "Epoch 9/150\n",
      "43200/43200 [==============================] - 72s 2ms/sample - loss: 0.5355 - acc: 0.7971 - val_loss: 0.4175 - val_acc: 0.8485\n",
      "Epoch 10/150\n",
      "43200/43200 [==============================] - 72s 2ms/sample - loss: 0.5166 - acc: 0.8053 - val_loss: 0.4020 - val_acc: 0.8494\n",
      "Epoch 11/150\n",
      "43200/43200 [==============================] - 71s 2ms/sample - loss: 0.5024 - acc: 0.8104 - val_loss: 0.3837 - val_acc: 0.8569\n",
      "Epoch 12/150\n",
      "43200/43200 [==============================] - 70s 2ms/sample - loss: 0.4818 - acc: 0.8186 - val_loss: 0.3787 - val_acc: 0.8648\n",
      "Epoch 13/150\n",
      "43200/43200 [==============================] - 71s 2ms/sample - loss: 0.4718 - acc: 0.8245 - val_loss: 0.3624 - val_acc: 0.8648\n",
      "Epoch 14/150\n",
      "43200/43200 [==============================] - 72s 2ms/sample - loss: 0.4584 - acc: 0.8309 - val_loss: 0.3587 - val_acc: 0.8645\n",
      "Epoch 15/150\n",
      "43200/43200 [==============================] - 70s 2ms/sample - loss: 0.4484 - acc: 0.8326 - val_loss: 0.3505 - val_acc: 0.8716\n",
      "Epoch 16/150\n",
      "43200/43200 [==============================] - 71s 2ms/sample - loss: 0.4395 - acc: 0.8363 - val_loss: 0.3400 - val_acc: 0.8751\n",
      "Epoch 17/150\n",
      "43200/43200 [==============================] - 71s 2ms/sample - loss: 0.4243 - acc: 0.8438 - val_loss: 0.3330 - val_acc: 0.8764\n",
      "Epoch 18/150\n",
      "43200/43200 [==============================] - 71s 2ms/sample - loss: 0.4207 - acc: 0.8444 - val_loss: 0.3300 - val_acc: 0.8788\n",
      "Epoch 19/150\n",
      "43200/43200 [==============================] - 74s 2ms/sample - loss: 0.4071 - acc: 0.8506 - val_loss: 0.3266 - val_acc: 0.8781\n",
      "Epoch 20/150\n",
      "43200/43200 [==============================] - 72s 2ms/sample - loss: 0.4028 - acc: 0.8515 - val_loss: 0.3222 - val_acc: 0.8799\n",
      "Epoch 21/150\n",
      "43200/43200 [==============================] - 76s 2ms/sample - loss: 0.3949 - acc: 0.8556 - val_loss: 0.3164 - val_acc: 0.8843\n",
      "Epoch 22/150\n",
      "43200/43200 [==============================] - 74s 2ms/sample - loss: 0.3861 - acc: 0.8562 - val_loss: 0.3123 - val_acc: 0.8816\n",
      "Epoch 23/150\n",
      "43200/43200 [==============================] - 75s 2ms/sample - loss: 0.3811 - acc: 0.8602 - val_loss: 0.3126 - val_acc: 0.8831\n",
      "Epoch 24/150\n",
      "43200/43200 [==============================] - 75s 2ms/sample - loss: 0.3785 - acc: 0.8612 - val_loss: 0.3035 - val_acc: 0.8895\n",
      "Epoch 25/150\n",
      "43200/43200 [==============================] - 74s 2ms/sample - loss: 0.3728 - acc: 0.8604 - val_loss: 0.3070 - val_acc: 0.8833\n",
      "Epoch 26/150\n",
      "43200/43200 [==============================] - 75s 2ms/sample - loss: 0.3639 - acc: 0.8648 - val_loss: 0.2972 - val_acc: 0.8915\n",
      "Epoch 27/150\n",
      "43200/43200 [==============================] - 73s 2ms/sample - loss: 0.3582 - acc: 0.8682 - val_loss: 0.2934 - val_acc: 0.8919\n",
      "Epoch 28/150\n",
      "43200/43200 [==============================] - 71s 2ms/sample - loss: 0.3564 - acc: 0.8686 - val_loss: 0.2949 - val_acc: 0.8894\n",
      "Epoch 29/150\n",
      "43200/43200 [==============================] - 72s 2ms/sample - loss: 0.3521 - acc: 0.8720 - val_loss: 0.2916 - val_acc: 0.8946\n",
      "Epoch 30/150\n",
      "43200/43200 [==============================] - 71s 2ms/sample - loss: 0.3504 - acc: 0.8738 - val_loss: 0.2851 - val_acc: 0.8932\n",
      "Epoch 31/150\n",
      "43200/43200 [==============================] - 71s 2ms/sample - loss: 0.3415 - acc: 0.8733 - val_loss: 0.2797 - val_acc: 0.8974\n",
      "Epoch 32/150\n",
      "43200/43200 [==============================] - 71s 2ms/sample - loss: 0.3392 - acc: 0.8761 - val_loss: 0.2863 - val_acc: 0.8931\n",
      "Epoch 33/150\n",
      "43200/43200 [==============================] - 72s 2ms/sample - loss: 0.3310 - acc: 0.8769 - val_loss: 0.2834 - val_acc: 0.8935\n",
      "Epoch 34/150\n",
      "43200/43200 [==============================] - 71s 2ms/sample - loss: 0.3307 - acc: 0.8785 - val_loss: 0.2802 - val_acc: 0.8941\n",
      "Epoch 35/150\n",
      "43200/43200 [==============================] - 71s 2ms/sample - loss: 0.3264 - acc: 0.8797 - val_loss: 0.2753 - val_acc: 0.8994\n",
      "Epoch 36/150\n",
      "43200/43200 [==============================] - 71s 2ms/sample - loss: 0.3233 - acc: 0.8799 - val_loss: 0.2784 - val_acc: 0.8963\n",
      "Epoch 37/150\n",
      "43200/43200 [==============================] - 71s 2ms/sample - loss: 0.3224 - acc: 0.8821 - val_loss: 0.2714 - val_acc: 0.9002\n",
      "Epoch 38/150\n",
      "43200/43200 [==============================] - 71s 2ms/sample - loss: 0.3216 - acc: 0.8827 - val_loss: 0.2753 - val_acc: 0.8992\n",
      "Epoch 39/150\n",
      "43200/43200 [==============================] - 74s 2ms/sample - loss: 0.3158 - acc: 0.8828 - val_loss: 0.2680 - val_acc: 0.9019\n",
      "Epoch 40/150\n",
      "43200/43200 [==============================] - 70s 2ms/sample - loss: 0.3134 - acc: 0.8833 - val_loss: 0.2727 - val_acc: 0.9006\n",
      "Epoch 41/150\n",
      "43200/43200 [==============================] - 71s 2ms/sample - loss: 0.3097 - acc: 0.8855 - val_loss: 0.2676 - val_acc: 0.9025\n",
      "Epoch 42/150\n",
      "43200/43200 [==============================] - 71s 2ms/sample - loss: 0.3079 - acc: 0.8861 - val_loss: 0.2826 - val_acc: 0.8946\n",
      "Epoch 43/150\n",
      "43200/43200 [==============================] - 70s 2ms/sample - loss: 0.2972 - acc: 0.8890 - val_loss: 0.2708 - val_acc: 0.9012\n",
      "Epoch 44/150\n",
      "43200/43200 [==============================] - 71s 2ms/sample - loss: 0.3034 - acc: 0.8864 - val_loss: 0.2678 - val_acc: 0.9000\n",
      "Epoch 45/150\n",
      "43200/43200 [==============================] - 71s 2ms/sample - loss: 0.2953 - acc: 0.8921 - val_loss: 0.2659 - val_acc: 0.9010\n",
      "Epoch 46/150\n",
      "43200/43200 [==============================] - 71s 2ms/sample - loss: 0.2957 - acc: 0.8918 - val_loss: 0.2601 - val_acc: 0.9039\n",
      "Epoch 47/150\n",
      "43200/43200 [==============================] - 71s 2ms/sample - loss: 0.2949 - acc: 0.8915 - val_loss: 0.2656 - val_acc: 0.9026\n",
      "Epoch 48/150\n",
      "43200/43200 [==============================] - 71s 2ms/sample - loss: 0.2866 - acc: 0.8933 - val_loss: 0.2624 - val_acc: 0.9041\n",
      "Epoch 49/150\n",
      "43200/43200 [==============================] - 71s 2ms/sample - loss: 0.2876 - acc: 0.8936 - val_loss: 0.2599 - val_acc: 0.9055\n",
      "Epoch 50/150\n",
      "43200/43200 [==============================] - 72s 2ms/sample - loss: 0.2870 - acc: 0.8949 - val_loss: 0.2611 - val_acc: 0.9044\n",
      "Epoch 51/150\n",
      "43200/43200 [==============================] - 74s 2ms/sample - loss: 0.2834 - acc: 0.8961 - val_loss: 0.2577 - val_acc: 0.9072\n",
      "Epoch 52/150\n",
      "43200/43200 [==============================] - 78s 2ms/sample - loss: 0.2808 - acc: 0.8983 - val_loss: 0.2586 - val_acc: 0.9075\n",
      "Epoch 53/150\n",
      "43200/43200 [==============================] - 71s 2ms/sample - loss: 0.2788 - acc: 0.8973 - val_loss: 0.2649 - val_acc: 0.9025\n",
      "Epoch 54/150\n",
      "43200/43200 [==============================] - 73s 2ms/sample - loss: 0.2760 - acc: 0.8990 - val_loss: 0.2566 - val_acc: 0.9081\n",
      "Epoch 55/150\n",
      "43200/43200 [==============================] - 77s 2ms/sample - loss: 0.2766 - acc: 0.8974 - val_loss: 0.2571 - val_acc: 0.9069\n",
      "Epoch 56/150\n",
      "43200/43200 [==============================] - 76s 2ms/sample - loss: 0.2708 - acc: 0.8992 - val_loss: 0.2572 - val_acc: 0.9101\n",
      "Epoch 57/150\n",
      "43200/43200 [==============================] - 75s 2ms/sample - loss: 0.2696 - acc: 0.9001 - val_loss: 0.2508 - val_acc: 0.9128\n",
      "Epoch 58/150\n",
      "43200/43200 [==============================] - 85s 2ms/sample - loss: 0.2650 - acc: 0.9021 - val_loss: 0.2561 - val_acc: 0.9081\n",
      "Epoch 59/150\n",
      "43200/43200 [==============================] - 82s 2ms/sample - loss: 0.2669 - acc: 0.8999 - val_loss: 0.2553 - val_acc: 0.9078\n",
      "Epoch 60/150\n",
      "43200/43200 [==============================] - 78s 2ms/sample - loss: 0.2653 - acc: 0.9026 - val_loss: 0.2564 - val_acc: 0.9070\n",
      "Epoch 61/150\n",
      "43200/43200 [==============================] - 79s 2ms/sample - loss: 0.2616 - acc: 0.9036 - val_loss: 0.2512 - val_acc: 0.9107\n",
      "Epoch 62/150\n",
      "43200/43200 [==============================] - 79s 2ms/sample - loss: 0.2618 - acc: 0.9027 - val_loss: 0.2499 - val_acc: 0.9121\n",
      "Epoch 63/150\n",
      "43200/43200 [==============================] - 78s 2ms/sample - loss: 0.2606 - acc: 0.9022 - val_loss: 0.2535 - val_acc: 0.9092\n",
      "Epoch 64/150\n",
      "43200/43200 [==============================] - 76s 2ms/sample - loss: 0.2568 - acc: 0.9033 - val_loss: 0.2504 - val_acc: 0.9073\n",
      "Epoch 65/150\n",
      "43200/43200 [==============================] - 74s 2ms/sample - loss: 0.2505 - acc: 0.9053 - val_loss: 0.2481 - val_acc: 0.9119\n",
      "Epoch 66/150\n",
      "43200/43200 [==============================] - 76s 2ms/sample - loss: 0.2579 - acc: 0.9052 - val_loss: 0.2516 - val_acc: 0.9131\n",
      "Epoch 67/150\n",
      "43200/43200 [==============================] - 76s 2ms/sample - loss: 0.2536 - acc: 0.9057 - val_loss: 0.2504 - val_acc: 0.9142\n",
      "Epoch 68/150\n",
      "43200/43200 [==============================] - 76s 2ms/sample - loss: 0.2520 - acc: 0.9078 - val_loss: 0.2526 - val_acc: 0.9108\n",
      "Epoch 69/150\n",
      "43200/43200 [==============================] - 78s 2ms/sample - loss: 0.2501 - acc: 0.9059 - val_loss: 0.2472 - val_acc: 0.9111\n",
      "Epoch 70/150\n",
      "43200/43200 [==============================] - 76s 2ms/sample - loss: 0.2481 - acc: 0.9080 - val_loss: 0.2469 - val_acc: 0.9132\n",
      "Epoch 71/150\n",
      "43200/43200 [==============================] - 80s 2ms/sample - loss: 0.2480 - acc: 0.9082 - val_loss: 0.2453 - val_acc: 0.9151\n",
      "Epoch 72/150\n",
      "43200/43200 [==============================] - 76s 2ms/sample - loss: 0.2467 - acc: 0.9079 - val_loss: 0.2451 - val_acc: 0.9122\n",
      "Epoch 73/150\n",
      "43200/43200 [==============================] - 81s 2ms/sample - loss: 0.2447 - acc: 0.9082 - val_loss: 0.2441 - val_acc: 0.9158\n",
      "Epoch 74/150\n",
      "43200/43200 [==============================] - 79s 2ms/sample - loss: 0.2400 - acc: 0.9114 - val_loss: 0.2469 - val_acc: 0.9138\n",
      "Epoch 75/150\n",
      "43200/43200 [==============================] - 79s 2ms/sample - loss: 0.2401 - acc: 0.9101 - val_loss: 0.2510 - val_acc: 0.9164\n",
      "Epoch 76/150\n",
      "43200/43200 [==============================] - 72s 2ms/sample - loss: 0.2322 - acc: 0.9122 - val_loss: 0.2395 - val_acc: 0.9148\n",
      "Epoch 77/150\n",
      "43200/43200 [==============================] - 74s 2ms/sample - loss: 0.2348 - acc: 0.9123 - val_loss: 0.2458 - val_acc: 0.9131\n",
      "Epoch 78/150\n",
      "43200/43200 [==============================] - 73s 2ms/sample - loss: 0.2435 - acc: 0.9099 - val_loss: 0.2447 - val_acc: 0.9135\n",
      "Epoch 79/150\n",
      "43200/43200 [==============================] - 73s 2ms/sample - loss: 0.2320 - acc: 0.9148 - val_loss: 0.2466 - val_acc: 0.9134\n",
      "Epoch 80/150\n",
      "43200/43200 [==============================] - 73s 2ms/sample - loss: 0.2281 - acc: 0.9134 - val_loss: 0.2444 - val_acc: 0.9172\n",
      "Epoch 81/150\n",
      "43200/43200 [==============================] - 76s 2ms/sample - loss: 0.2327 - acc: 0.9120 - val_loss: 0.2406 - val_acc: 0.9180\n",
      "Epoch 82/150\n",
      "43200/43200 [==============================] - 76s 2ms/sample - loss: 0.2282 - acc: 0.9139 - val_loss: 0.2472 - val_acc: 0.9184\n",
      "Epoch 83/150\n",
      "43200/43200 [==============================] - 76s 2ms/sample - loss: 0.2329 - acc: 0.9127 - val_loss: 0.2430 - val_acc: 0.9153\n",
      "Epoch 84/150\n",
      "43200/43200 [==============================] - 73s 2ms/sample - loss: 0.2275 - acc: 0.9139 - val_loss: 0.2527 - val_acc: 0.9144\n",
      "Epoch 85/150\n",
      "43200/43200 [==============================] - 75s 2ms/sample - loss: 0.2249 - acc: 0.9162 - val_loss: 0.2443 - val_acc: 0.9156\n",
      "Epoch 86/150\n",
      "43200/43200 [==============================] - 77s 2ms/sample - loss: 0.2266 - acc: 0.9158 - val_loss: 0.2436 - val_acc: 0.9175\n",
      "Epoch 87/150\n",
      "43200/43200 [==============================] - 82s 2ms/sample - loss: 0.2223 - acc: 0.9172 - val_loss: 0.2388 - val_acc: 0.9170\n",
      "Epoch 88/150\n",
      "43200/43200 [==============================] - 73s 2ms/sample - loss: 0.2163 - acc: 0.9188 - val_loss: 0.2455 - val_acc: 0.9169\n",
      "Epoch 89/150\n",
      "43200/43200 [==============================] - 71s 2ms/sample - loss: 0.2225 - acc: 0.9156 - val_loss: 0.2456 - val_acc: 0.9192\n",
      "Epoch 90/150\n",
      "43200/43200 [==============================] - 71s 2ms/sample - loss: 0.2147 - acc: 0.9180 - val_loss: 0.2446 - val_acc: 0.9175\n",
      "Epoch 91/150\n",
      "43200/43200 [==============================] - 72s 2ms/sample - loss: 0.2186 - acc: 0.9184 - val_loss: 0.2479 - val_acc: 0.9176\n",
      "Epoch 92/150\n",
      "43200/43200 [==============================] - 70s 2ms/sample - loss: 0.2182 - acc: 0.9164 - val_loss: 0.2446 - val_acc: 0.9197\n",
      "Epoch 93/150\n",
      "43200/43200 [==============================] - 70s 2ms/sample - loss: 0.2158 - acc: 0.9194 - val_loss: 0.2399 - val_acc: 0.9210\n",
      "Epoch 94/150\n",
      "43200/43200 [==============================] - 70s 2ms/sample - loss: 0.2161 - acc: 0.9208 - val_loss: 0.2481 - val_acc: 0.9178\n",
      "Epoch 95/150\n",
      "43200/43200 [==============================] - 71s 2ms/sample - loss: 0.2146 - acc: 0.9180 - val_loss: 0.2380 - val_acc: 0.9186\n",
      "Epoch 96/150\n",
      "43200/43200 [==============================] - 70s 2ms/sample - loss: 0.2160 - acc: 0.9184 - val_loss: 0.2400 - val_acc: 0.9200\n",
      "Epoch 97/150\n",
      "43200/43200 [==============================] - 70s 2ms/sample - loss: 0.2109 - acc: 0.9213 - val_loss: 0.2425 - val_acc: 0.9161\n",
      "Epoch 98/150\n",
      "43200/43200 [==============================] - 70s 2ms/sample - loss: 0.2119 - acc: 0.9207 - val_loss: 0.2384 - val_acc: 0.9184\n",
      "Epoch 99/150\n",
      "43200/43200 [==============================] - 75s 2ms/sample - loss: 0.2080 - acc: 0.9224 - val_loss: 0.2416 - val_acc: 0.9167\n",
      "Epoch 100/150\n",
      "43200/43200 [==============================] - 75s 2ms/sample - loss: 0.2090 - acc: 0.9231 - val_loss: 0.2424 - val_acc: 0.9165\n",
      "Epoch 101/150\n",
      "43200/43200 [==============================] - 72s 2ms/sample - loss: 0.2065 - acc: 0.9226 - val_loss: 0.2426 - val_acc: 0.9188\n",
      "Epoch 102/150\n",
      "43200/43200 [==============================] - 76s 2ms/sample - loss: 0.2090 - acc: 0.9211 - val_loss: 0.2365 - val_acc: 0.9196\n",
      "Epoch 103/150\n",
      "43200/43200 [==============================] - 74s 2ms/sample - loss: 0.2039 - acc: 0.9238 - val_loss: 0.2432 - val_acc: 0.9171\n",
      "Epoch 104/150\n",
      "43200/43200 [==============================] - 76s 2ms/sample - loss: 0.2062 - acc: 0.9232 - val_loss: 0.2422 - val_acc: 0.9194\n",
      "Epoch 105/150\n",
      "43200/43200 [==============================] - 80s 2ms/sample - loss: 0.2006 - acc: 0.9244 - val_loss: 0.2491 - val_acc: 0.9188\n",
      "Epoch 106/150\n",
      "43200/43200 [==============================] - 96s 2ms/sample - loss: 0.2019 - acc: 0.9251 - val_loss: 0.2374 - val_acc: 0.9211\n",
      "Epoch 107/150\n",
      "43200/43200 [==============================] - 89s 2ms/sample - loss: 0.2024 - acc: 0.9239 - val_loss: 0.2368 - val_acc: 0.9184\n",
      "Epoch 108/150\n",
      "43200/43200 [==============================] - 88s 2ms/sample - loss: 0.2014 - acc: 0.9234 - val_loss: 0.2389 - val_acc: 0.9206\n",
      "Epoch 109/150\n",
      "43200/43200 [==============================] - 90s 2ms/sample - loss: 0.1996 - acc: 0.9249 - val_loss: 0.2461 - val_acc: 0.9170\n",
      "Epoch 110/150\n",
      "43200/43200 [==============================] - 85s 2ms/sample - loss: 0.1999 - acc: 0.9246 - val_loss: 0.2430 - val_acc: 0.9192\n",
      "Epoch 111/150\n",
      "43200/43200 [==============================] - 87s 2ms/sample - loss: 0.1960 - acc: 0.9259 - val_loss: 0.2524 - val_acc: 0.9166\n",
      "Epoch 112/150\n",
      "43200/43200 [==============================] - 87s 2ms/sample - loss: 0.1954 - acc: 0.9267 - val_loss: 0.2382 - val_acc: 0.9209\n",
      "Epoch 113/150\n",
      "43200/43200 [==============================] - 89s 2ms/sample - loss: 0.1964 - acc: 0.9270 - val_loss: 0.2353 - val_acc: 0.9195\n",
      "Epoch 114/150\n",
      "43200/43200 [==============================] - 89s 2ms/sample - loss: 0.1921 - acc: 0.9274 - val_loss: 0.2415 - val_acc: 0.9195\n",
      "Epoch 115/150\n",
      "43200/43200 [==============================] - 81s 2ms/sample - loss: 0.1982 - acc: 0.9257 - val_loss: 0.2374 - val_acc: 0.9203\n",
      "Epoch 116/150\n",
      "43200/43200 [==============================] - 85s 2ms/sample - loss: 0.1923 - acc: 0.9262 - val_loss: 0.2551 - val_acc: 0.9148\n",
      "Epoch 117/150\n",
      "43200/43200 [==============================] - 85s 2ms/sample - loss: 0.1951 - acc: 0.9281 - val_loss: 0.2483 - val_acc: 0.9171\n",
      "Epoch 118/150\n",
      "43200/43200 [==============================] - 87s 2ms/sample - loss: 0.1912 - acc: 0.9285 - val_loss: 0.2417 - val_acc: 0.9184\n",
      "Epoch 119/150\n",
      "43200/43200 [==============================] - 89s 2ms/sample - loss: 0.1918 - acc: 0.9268 - val_loss: 0.2442 - val_acc: 0.9198\n",
      "Epoch 120/150\n",
      "43200/43200 [==============================] - 88s 2ms/sample - loss: 0.1921 - acc: 0.9261 - val_loss: 0.2489 - val_acc: 0.9185\n",
      "Epoch 121/150\n",
      "43200/43200 [==============================] - 84s 2ms/sample - loss: 0.1949 - acc: 0.9268 - val_loss: 0.2383 - val_acc: 0.9215\n",
      "Epoch 122/150\n",
      "43200/43200 [==============================] - 81s 2ms/sample - loss: 0.1902 - acc: 0.9294 - val_loss: 0.2370 - val_acc: 0.9194\n",
      "Epoch 123/150\n",
      "43200/43200 [==============================] - 81s 2ms/sample - loss: 0.1914 - acc: 0.9278 - val_loss: 0.2538 - val_acc: 0.9147\n",
      "Epoch 124/150\n",
      "43200/43200 [==============================] - 84s 2ms/sample - loss: 0.1875 - acc: 0.9293 - val_loss: 0.2443 - val_acc: 0.9186\n",
      "Epoch 125/150\n",
      "43200/43200 [==============================] - 84s 2ms/sample - loss: 0.1923 - acc: 0.9262 - val_loss: 0.2494 - val_acc: 0.9130\n",
      "Epoch 126/150\n",
      "43200/43200 [==============================] - 85s 2ms/sample - loss: 0.1878 - acc: 0.9296 - val_loss: 0.2411 - val_acc: 0.9197\n",
      "Epoch 127/150\n",
      "43200/43200 [==============================] - 86s 2ms/sample - loss: 0.1851 - acc: 0.9294 - val_loss: 0.2441 - val_acc: 0.9182\n",
      "Epoch 128/150\n",
      "43200/43200 [==============================] - 82s 2ms/sample - loss: 0.1920 - acc: 0.9273 - val_loss: 0.2419 - val_acc: 0.9193\n",
      "Epoch 129/150\n",
      "43200/43200 [==============================] - 81s 2ms/sample - loss: 0.1881 - acc: 0.9293 - val_loss: 0.2430 - val_acc: 0.9193\n",
      "Epoch 130/150\n",
      "43200/43200 [==============================] - 81s 2ms/sample - loss: 0.1849 - acc: 0.9315 - val_loss: 0.2463 - val_acc: 0.9196\n",
      "Epoch 131/150\n",
      "43200/43200 [==============================] - 81s 2ms/sample - loss: 0.1817 - acc: 0.9322 - val_loss: 0.2459 - val_acc: 0.9203\n",
      "Epoch 132/150\n",
      "43200/43200 [==============================] - 84s 2ms/sample - loss: 0.1918 - acc: 0.9290 - val_loss: 0.2431 - val_acc: 0.9196\n",
      "Epoch 133/150\n",
      "43200/43200 [==============================] - 82s 2ms/sample - loss: 0.1854 - acc: 0.9300 - val_loss: 0.2430 - val_acc: 0.9190\n",
      "Epoch 134/150\n",
      "43200/43200 [==============================] - 82s 2ms/sample - loss: 0.1837 - acc: 0.9297 - val_loss: 0.2480 - val_acc: 0.9189\n",
      "Epoch 135/150\n",
      "43200/43200 [==============================] - 82s 2ms/sample - loss: 0.1828 - acc: 0.9319 - val_loss: 0.2496 - val_acc: 0.9174\n",
      "Epoch 136/150\n",
      "43200/43200 [==============================] - 83s 2ms/sample - loss: 0.1843 - acc: 0.9310 - val_loss: 0.2379 - val_acc: 0.9195\n",
      "Epoch 137/150\n",
      "43200/43200 [==============================] - 82s 2ms/sample - loss: 0.1781 - acc: 0.9325 - val_loss: 0.2404 - val_acc: 0.9198\n",
      "Epoch 138/150\n",
      "43200/43200 [==============================] - 81s 2ms/sample - loss: 0.1779 - acc: 0.9334 - val_loss: 0.2458 - val_acc: 0.9204\n",
      "Epoch 139/150\n",
      "43200/43200 [==============================] - 82s 2ms/sample - loss: 0.1778 - acc: 0.9325 - val_loss: 0.2497 - val_acc: 0.9168\n",
      "Epoch 140/150\n",
      "43200/43200 [==============================] - 81s 2ms/sample - loss: 0.1809 - acc: 0.9332 - val_loss: 0.2509 - val_acc: 0.9153\n",
      "Epoch 141/150\n",
      "43200/43200 [==============================] - 80s 2ms/sample - loss: 0.1818 - acc: 0.9307 - val_loss: 0.2417 - val_acc: 0.9196\n",
      "Epoch 142/150\n",
      "43200/43200 [==============================] - 81s 2ms/sample - loss: 0.1795 - acc: 0.9313 - val_loss: 0.2516 - val_acc: 0.9173\n",
      "Epoch 143/150\n",
      "43200/43200 [==============================] - 85s 2ms/sample - loss: 0.1842 - acc: 0.9306 - val_loss: 0.2524 - val_acc: 0.9173\n",
      "Epoch 144/150\n",
      "43200/43200 [==============================] - 82s 2ms/sample - loss: 0.1774 - acc: 0.9332 - val_loss: 0.2414 - val_acc: 0.9198\n",
      "Epoch 145/150\n",
      "43200/43200 [==============================] - 82s 2ms/sample - loss: 0.1781 - acc: 0.9331 - val_loss: 0.2417 - val_acc: 0.9219\n",
      "Epoch 146/150\n",
      "43200/43200 [==============================] - 82s 2ms/sample - loss: 0.1716 - acc: 0.9345 - val_loss: 0.2409 - val_acc: 0.9210\n",
      "Epoch 147/150\n",
      "43200/43200 [==============================] - 85s 2ms/sample - loss: 0.1703 - acc: 0.9355 - val_loss: 0.2544 - val_acc: 0.9165\n",
      "Epoch 148/150\n",
      "43200/43200 [==============================] - 82s 2ms/sample - loss: 0.1765 - acc: 0.9334 - val_loss: 0.2529 - val_acc: 0.9174\n",
      "Epoch 149/150\n",
      "43200/43200 [==============================] - 86s 2ms/sample - loss: 0.1759 - acc: 0.9341 - val_loss: 0.2432 - val_acc: 0.9204\n",
      "Epoch 150/150\n",
      "43200/43200 [==============================] - 83s 2ms/sample - loss: 0.1734 - acc: 0.9350 - val_loss: 0.2497 - val_acc: 0.9186\n"
     ]
    }
   ],
   "source": [
    "epochs = 150\n",
    "\n",
    "history = cnn_model.fit(x_train, y_train, batch_size = 512, epochs = epochs,\n",
    "                        verbose = 1, validation_data = (x_validate, y_validate))"
   ]
  },
  {
   "cell_type": "markdown",
   "metadata": {},
   "source": [
    "# Vizualizing the Loss and Accuracy evolution "
   ]
  },
  {
   "cell_type": "code",
   "execution_count": 50,
   "metadata": {},
   "outputs": [
    {
     "data": {
      "text/plain": [
       "Text(0.5, 1.0, 'Loss evolution')"
      ]
     },
     "execution_count": 50,
     "metadata": {},
     "output_type": "execute_result"
    },
    {
     "data": {
      "image/png": "[encoded data removed]",
      "text/plain": [
       "<Figure size 864x576 with 1 Axes>"
      ]
     },
     "metadata": {
      "needs_background": "light"
     },
     "output_type": "display_data"
    }
   ],
   "source": [
    "plt.figure(figsize=(12, 8))\n",
    "\n",
    "plt.subplot(2, 2, 1)\n",
    "plt.plot(history.history['loss'], label='Loss')\n",
    "plt.plot(history.history['val_loss'], label='val_Loss')\n",
    "plt.legend()\n",
    "plt.title('Loss evolution')\n"
   ]
  },
  {
   "cell_type": "code",
   "execution_count": 52,
   "metadata": {},
   "outputs": [
    {
     "data": {
      "image/png": "[encoded data removed]",
      "text/plain": [
       "<Figure size 432x288 with 1 Axes>"
      ]
     },
     "metadata": {
      "needs_background": "light"
     },
     "output_type": "display_data"
    }
   ],
   "source": [
    "plt.plot(history.history['acc'])\n",
    "plt.plot(history.history['val_acc'])\n",
    "plt.title(\" Accuracy Evolution\")\n",
    "plt.xlabel('Epochs')\n",
    "plt.ylabel('Accuracy')\n",
    "plt.legend(['Accuracy', 'val_accuracy'])\n",
    "plt.show()"
   ]
  },
  {
   "cell_type": "markdown",
   "metadata": {},
   "source": [
    "# Evaluating the model "
   ]
  },
  {
   "cell_type": "code",
   "execution_count": 53,
   "metadata": {},
   "outputs": [
    {
     "name": "stdout",
     "output_type": "stream",
     "text": [
      "6000/6000 [==============================] - 4s 655us/sample - loss: 0.2320 - acc: 0.9265\n",
      "Test Accuracy : 0.927\n"
     ]
    }
   ],
   "source": [
    "evaluation = model.evaluate(x_test, y_test)\n",
    "print(f'Test Accuracy : {evaluation[1]:.3f}')"
   ]
  },
  {
   "cell_type": "markdown",
   "metadata": {},
   "source": [
    "# Predictions "
   ]
  },
  {
   "cell_type": "code",
   "execution_count": 54,
   "metadata": {},
   "outputs": [],
   "source": [
    " #get the predictions for the test data\n",
    "predicted_classes = model.predict_classes(x_test)"
   ]
  },
  {
   "cell_type": "code",
   "execution_count": 55,
   "metadata": {},
   "outputs": [
    {
     "data": {
      "text/plain": [
       "array([1.4835845e-09, 1.3155711e-10, 4.3822768e-01, 1.9306255e-11,\n",
       "       5.6083643e-01, 4.3774853e-18, 9.3585829e-04, 4.4857516e-21,\n",
       "       4.8536983e-09, 3.6216379e-17], dtype=float32)"
      ]
     },
     "execution_count": 55,
     "metadata": {},
     "output_type": "execute_result"
    }
   ],
   "source": [
    "test_img = x_test[0]\n",
    "prediction = model.predict(x_test)\n",
    "prediction[0]"
   ]
  },
  {
   "cell_type": "code",
   "execution_count": 56,
   "metadata": {},
   "outputs": [
    {
     "data": {
      "text/plain": [
       "4"
      ]
     },
     "execution_count": 56,
     "metadata": {},
     "output_type": "execute_result"
    }
   ],
   "source": [
    "np.argmax(prediction[0])"
   ]
  },
  {
   "cell_type": "code",
   "execution_count": 57,
   "metadata": {},
   "outputs": [
    {
     "ename": "KeyError",
     "evalue": "0",
     "output_type": "error",
     "traceback": [
      "\u001b[1;31m---------------------------------------------------------------------------\u001b[0m",
      "\u001b[1;31mKeyError\u001b[0m                                  Traceback (most recent call last)",
      "\u001b[1;32m<ipython-input-57-2f85bb3b7780>\u001b[0m in \u001b[0;36m<module>\u001b[1;34m\u001b[0m\n\u001b[0;32m      6\u001b[0m \u001b[1;32mfor\u001b[0m \u001b[0mi\u001b[0m \u001b[1;32min\u001b[0m \u001b[0mnp\u001b[0m\u001b[1;33m.\u001b[0m\u001b[0marange\u001b[0m\u001b[1;33m(\u001b[0m\u001b[1;36m0\u001b[0m\u001b[1;33m,\u001b[0m \u001b[0mL\u001b[0m \u001b[1;33m*\u001b[0m \u001b[0mW\u001b[0m\u001b[1;33m)\u001b[0m\u001b[1;33m:\u001b[0m\u001b[1;33m\u001b[0m\u001b[1;33m\u001b[0m\u001b[0m\n\u001b[0;32m      7\u001b[0m     \u001b[0maxes\u001b[0m\u001b[1;33m[\u001b[0m\u001b[0mi\u001b[0m\u001b[1;33m]\u001b[0m\u001b[1;33m.\u001b[0m\u001b[0mimshow\u001b[0m\u001b[1;33m(\u001b[0m\u001b[0mx_test\u001b[0m\u001b[1;33m[\u001b[0m\u001b[0mi\u001b[0m\u001b[1;33m]\u001b[0m\u001b[1;33m.\u001b[0m\u001b[0mreshape\u001b[0m\u001b[1;33m(\u001b[0m\u001b[1;36m28\u001b[0m\u001b[1;33m,\u001b[0m\u001b[1;36m28\u001b[0m\u001b[1;33m)\u001b[0m\u001b[1;33m)\u001b[0m\u001b[1;33m\u001b[0m\u001b[1;33m\u001b[0m\u001b[0m\n\u001b[1;32m----> 8\u001b[1;33m     \u001b[0maxes\u001b[0m\u001b[1;33m[\u001b[0m\u001b[0mi\u001b[0m\u001b[1;33m]\u001b[0m\u001b[1;33m.\u001b[0m\u001b[0mset_title\u001b[0m\u001b[1;33m(\u001b[0m\u001b[1;34mf\"Prediction Class = {predicted_classes[i]:0.1f}\\n True Class = {y_test[i]:0.1f}\"\u001b[0m\u001b[1;33m)\u001b[0m\u001b[1;33m\u001b[0m\u001b[1;33m\u001b[0m\u001b[0m\n\u001b[0m\u001b[0;32m      9\u001b[0m     \u001b[0maxes\u001b[0m\u001b[1;33m[\u001b[0m\u001b[0mi\u001b[0m\u001b[1;33m]\u001b[0m\u001b[1;33m.\u001b[0m\u001b[0maxis\u001b[0m\u001b[1;33m(\u001b[0m\u001b[1;34m'off'\u001b[0m\u001b[1;33m)\u001b[0m\u001b[1;33m\u001b[0m\u001b[1;33m\u001b[0m\u001b[0m\n\u001b[0;32m     10\u001b[0m \u001b[1;33m\u001b[0m\u001b[0m\n",
      "\u001b[1;32m~\\Anaconda3\\lib\\site-packages\\pandas\\core\\series.py\u001b[0m in \u001b[0;36m__getitem__\u001b[1;34m(self, key)\u001b[0m\n\u001b[0;32m    866\u001b[0m         \u001b[0mkey\u001b[0m \u001b[1;33m=\u001b[0m \u001b[0mcom\u001b[0m\u001b[1;33m.\u001b[0m\u001b[0mapply_if_callable\u001b[0m\u001b[1;33m(\u001b[0m\u001b[0mkey\u001b[0m\u001b[1;33m,\u001b[0m \u001b[0mself\u001b[0m\u001b[1;33m)\u001b[0m\u001b[1;33m\u001b[0m\u001b[1;33m\u001b[0m\u001b[0m\n\u001b[0;32m    867\u001b[0m         \u001b[1;32mtry\u001b[0m\u001b[1;33m:\u001b[0m\u001b[1;33m\u001b[0m\u001b[1;33m\u001b[0m\u001b[0m\n\u001b[1;32m--> 868\u001b[1;33m             \u001b[0mresult\u001b[0m \u001b[1;33m=\u001b[0m \u001b[0mself\u001b[0m\u001b[1;33m.\u001b[0m\u001b[0mindex\u001b[0m\u001b[1;33m.\u001b[0m\u001b[0mget_value\u001b[0m\u001b[1;33m(\u001b[0m\u001b[0mself\u001b[0m\u001b[1;33m,\u001b[0m \u001b[0mkey\u001b[0m\u001b[1;33m)\u001b[0m\u001b[1;33m\u001b[0m\u001b[1;33m\u001b[0m\u001b[0m\n\u001b[0m\u001b[0;32m    869\u001b[0m \u001b[1;33m\u001b[0m\u001b[0m\n\u001b[0;32m    870\u001b[0m             \u001b[1;32mif\u001b[0m \u001b[1;32mnot\u001b[0m \u001b[0mis_scalar\u001b[0m\u001b[1;33m(\u001b[0m\u001b[0mresult\u001b[0m\u001b[1;33m)\u001b[0m\u001b[1;33m:\u001b[0m\u001b[1;33m\u001b[0m\u001b[1;33m\u001b[0m\u001b[0m\n",
      "\u001b[1;32m~\\Anaconda3\\lib\\site-packages\\pandas\\core\\indexes\\base.py\u001b[0m in \u001b[0;36mget_value\u001b[1;34m(self, series, key)\u001b[0m\n\u001b[0;32m   4373\u001b[0m         \u001b[1;32mtry\u001b[0m\u001b[1;33m:\u001b[0m\u001b[1;33m\u001b[0m\u001b[1;33m\u001b[0m\u001b[0m\n\u001b[0;32m   4374\u001b[0m             return self._engine.get_value(s, k,\n\u001b[1;32m-> 4375\u001b[1;33m                                           tz=getattr(series.dtype, 'tz', None))\n\u001b[0m\u001b[0;32m   4376\u001b[0m         \u001b[1;32mexcept\u001b[0m \u001b[0mKeyError\u001b[0m \u001b[1;32mas\u001b[0m \u001b[0me1\u001b[0m\u001b[1;33m:\u001b[0m\u001b[1;33m\u001b[0m\u001b[1;33m\u001b[0m\u001b[0m\n\u001b[0;32m   4377\u001b[0m             \u001b[1;32mif\u001b[0m \u001b[0mlen\u001b[0m\u001b[1;33m(\u001b[0m\u001b[0mself\u001b[0m\u001b[1;33m)\u001b[0m \u001b[1;33m>\u001b[0m \u001b[1;36m0\u001b[0m \u001b[1;32mand\u001b[0m \u001b[1;33m(\u001b[0m\u001b[0mself\u001b[0m\u001b[1;33m.\u001b[0m\u001b[0mholds_integer\u001b[0m\u001b[1;33m(\u001b[0m\u001b[1;33m)\u001b[0m \u001b[1;32mor\u001b[0m \u001b[0mself\u001b[0m\u001b[1;33m.\u001b[0m\u001b[0mis_boolean\u001b[0m\u001b[1;33m(\u001b[0m\u001b[1;33m)\u001b[0m\u001b[1;33m)\u001b[0m\u001b[1;33m:\u001b[0m\u001b[1;33m\u001b[0m\u001b[1;33m\u001b[0m\u001b[0m\n",
      "\u001b[1;32mpandas/_libs/index.pyx\u001b[0m in \u001b[0;36mpandas._libs.index.IndexEngine.get_value\u001b[1;34m()\u001b[0m\n",
      "\u001b[1;32mpandas/_libs/index.pyx\u001b[0m in \u001b[0;36mpandas._libs.index.IndexEngine.get_value\u001b[1;34m()\u001b[0m\n",
      "\u001b[1;32mpandas/_libs/index.pyx\u001b[0m in \u001b[0;36mpandas._libs.index.IndexEngine.get_loc\u001b[1;34m()\u001b[0m\n",
      "\u001b[1;32mpandas/_libs/hashtable_class_helper.pxi\u001b[0m in \u001b[0;36mpandas._libs.hashtable.Int64HashTable.get_item\u001b[1;34m()\u001b[0m\n",
      "\u001b[1;32mpandas/_libs/hashtable_class_helper.pxi\u001b[0m in \u001b[0;36mpandas._libs.hashtable.Int64HashTable.get_item\u001b[1;34m()\u001b[0m\n",
      "\u001b[1;31mKeyError\u001b[0m: 0"
     ]
    },
    {
     "data": {
      "image/png": "[encoded data removed]",
      "text/plain": [
       "<Figure size 864x864 with 25 Axes>"
      ]
     },
     "metadata": {
      "needs_background": "light"
     },
     "output_type": "display_data"
    }
   ],
   "source": [
    "L = 5\n",
    "W = 5\n",
    "fig, axes = plt.subplots(L, W, figsize = (12,12))\n",
    "axes = axes.ravel()\n",
    "\n",
    "for i in np.arange(0, L * W):  \n",
    "    axes[i].imshow(x_test[i].reshape(28,28))\n",
    "    axes[i].set_title(f\"Prediction Class = {predicted_classes[i]:0.1f}\\n True Class = {y_test[i]:0.1f}\")\n",
    "    axes[i].axis('off')\n",
    "\n",
    "plt.subplots_adjust(wspace=0.5)"
   ]
  },
  {
   "cell_type": "markdown",
   "metadata": {},
   "source": [
    "# Confusion matrix"
   ]
  },
  {
   "cell_type": "code",
   "execution_count": 43,
   "metadata": {},
   "outputs": [
    {
     "data": {
      "text/plain": [
       "<matplotlib.axes._subplots.AxesSubplot at 0x1dd86be1f98>"
      ]
     },
     "execution_count": 43,
     "metadata": {},
     "output_type": "execute_result"
    },
    {
     "data": {
      "image/png": "[encoded data removed]",
      "text/plain": [
       "<Figure size 1008x720 with 2 Axes>"
      ]
     },
     "metadata": {
      "needs_background": "light"
     },
     "output_type": "display_data"
    }
   ],
   "source": [
    "from sklearn.metrics import confusion_matrix\n",
    "cmatrix = confusion_matrix(y_test, predicted_classes)\n",
    "plt.figure(figsize = (14,10))\n",
    "sns.heatmap(cmatrix, annot=True)\n",
    "# Sum the diagonal element to get the total true correct values"
   ]
  },
  {
   "cell_type": "markdown",
   "metadata": {},
   "source": [
    "# Precision and Recall "
   ]
  },
  {
   "cell_type": "code",
   "execution_count": 44,
   "metadata": {},
   "outputs": [
    {
     "name": "stdout",
     "output_type": "stream",
     "text": [
      "              precision    recall  f1-score   support\n",
      "\n",
      "     Class 0       0.88      0.89      0.89       629\n",
      "     Class 1       1.00      0.99      0.99       580\n",
      "     Class 2       0.89      0.87      0.88       550\n",
      "     Class 3       0.91      0.93      0.92       612\n",
      "     Class 4       0.86      0.88      0.87       598\n",
      "     Class 5       0.99      0.98      0.99       613\n",
      "     Class 6       0.80      0.78      0.79       592\n",
      "     Class 7       0.97      0.99      0.98       594\n",
      "     Class 8       0.98      0.98      0.98       623\n",
      "     Class 9       0.98      0.97      0.98       609\n",
      "\n",
      "    accuracy                           0.93      6000\n",
      "   macro avg       0.93      0.93      0.93      6000\n",
      "weighted avg       0.93      0.93      0.93      6000\n",
      "\n"
     ]
    }
   ],
   "source": [
    "from sklearn.metrics import classification_report\n",
    "\n",
    "num_classes = 10\n",
    "target_names = [f\"Class {i}\" for i in range(num_classes)]\n",
    "\n",
    "print(classification_report(y_test, predicted_classes, target_names = target_names))"
   ]
  },
  {
   "cell_type": "code",
   "execution_count": null,
   "metadata": {},
   "outputs": [],
   "source": []
  }
 ],
 "metadata": {
  "kernelspec": {
   "display_name": "Python 3",
   "language": "python",
   "name": "python3"
  },
  "language_info": {
   "codemirror_mode": {
    "name": "ipython",
    "version": 3
   },
   "file_extension": ".py",
   "mimetype": "text/x-python",
   "name": "python",
   "nbconvert_exporter": "python",
   "pygments_lexer": "ipython3",
   "version": "3.7.3"
  }
 },
 "nbformat": 4,
 "nbformat_minor": 2
}
